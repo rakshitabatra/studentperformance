{
 "cells": [
  {
   "cell_type": "markdown",
   "metadata": {
    "_uuid": "3e4d5ae5e042b8c6da78cc3cfc229b754ce48a1d"
   },
   "source": [
    "## **AIM: To Study the effect of various factors on students reading, writing and maths score**"
   ]
  },
  {
   "cell_type": "markdown",
   "metadata": {
    "_uuid": "7d848771dd4ec164464f80d12e0046c52168906f"
   },
   "source": [
    "I hope you find this kernel helpful and some<font color=\"red\"><b> UPVOTES</b></font>  would be very much appreciated\n",
    "\n"
   ]
  },
  {
   "cell_type": "code",
   "execution_count": 1,
   "metadata": {
    "_cell_guid": "b1076dfc-b9ad-4769-8c92-a6c4dae69d19",
    "_kg_hide-input": true,
    "_kg_hide-output": false,
    "_uuid": "8f2839f25d086af736a60e9eeb907d3b93b6e0e5"
   },
   "outputs": [],
   "source": [
    "import warnings                       # to hide warnings if any\n",
    "warnings.filterwarnings('ignore')\n",
    "\n",
    "\n"
   ]
  },
  {
   "cell_type": "markdown",
   "metadata": {
    "_cell_guid": "79c7e3d0-c299-4dcb-8224-4455121ee9b0",
    "_uuid": "d629ff2d2480ee46fbb7e2d37f6b5fab8052498a",
    "collapsed": true
   },
   "source": [
    "### ** Importing Required Libraries**"
   ]
  },
  {
   "cell_type": "code",
   "execution_count": 2,
   "metadata": {
    "_uuid": "9c70ad521d9ef591b8b5b9fb898111c88250ac59"
   },
   "outputs": [],
   "source": [
    "import pandas as pd                #Data Processing\n",
    "import numpy as np                 # Linear Algebra\n",
    "import matplotlib.pyplot as plt    # Data Visualization\n",
    "import seaborn as sns              # Data Visualization\n",
    "\n",
    "%matplotlib inline"
   ]
  },
  {
   "cell_type": "markdown",
   "metadata": {
    "_uuid": "398d917d17b929141227d06dddcb7ec483c7d90f"
   },
   "source": [
    "### **Reading the data**"
   ]
  },
  {
   "cell_type": "code",
   "execution_count": 3,
   "metadata": {
    "_uuid": "3b41c3b2b561992b05ec252869676a2c3a3f7798"
   },
   "outputs": [
    {
     "data": {
      "text/html": [
       "<div>\n",
       "<style scoped>\n",
       "    .dataframe tbody tr th:only-of-type {\n",
       "        vertical-align: middle;\n",
       "    }\n",
       "\n",
       "    .dataframe tbody tr th {\n",
       "        vertical-align: top;\n",
       "    }\n",
       "\n",
       "    .dataframe thead th {\n",
       "        text-align: right;\n",
       "    }\n",
       "</style>\n",
       "<table border=\"1\" class=\"dataframe\">\n",
       "  <thead>\n",
       "    <tr style=\"text-align: right;\">\n",
       "      <th></th>\n",
       "      <th>gender</th>\n",
       "      <th>race/ethnicity</th>\n",
       "      <th>parental level of education</th>\n",
       "      <th>lunch</th>\n",
       "      <th>test preparation course</th>\n",
       "      <th>math score</th>\n",
       "      <th>reading score</th>\n",
       "      <th>writing score</th>\n",
       "    </tr>\n",
       "  </thead>\n",
       "  <tbody>\n",
       "    <tr>\n",
       "      <th>0</th>\n",
       "      <td>female</td>\n",
       "      <td>group B</td>\n",
       "      <td>bachelor's degree</td>\n",
       "      <td>standard</td>\n",
       "      <td>none</td>\n",
       "      <td>72</td>\n",
       "      <td>72</td>\n",
       "      <td>74</td>\n",
       "    </tr>\n",
       "    <tr>\n",
       "      <th>1</th>\n",
       "      <td>female</td>\n",
       "      <td>group C</td>\n",
       "      <td>some college</td>\n",
       "      <td>standard</td>\n",
       "      <td>completed</td>\n",
       "      <td>69</td>\n",
       "      <td>90</td>\n",
       "      <td>88</td>\n",
       "    </tr>\n",
       "    <tr>\n",
       "      <th>2</th>\n",
       "      <td>female</td>\n",
       "      <td>group B</td>\n",
       "      <td>master's degree</td>\n",
       "      <td>standard</td>\n",
       "      <td>none</td>\n",
       "      <td>90</td>\n",
       "      <td>95</td>\n",
       "      <td>93</td>\n",
       "    </tr>\n",
       "  </tbody>\n",
       "</table>\n",
       "</div>"
      ],
      "text/plain": [
       "   gender race/ethnicity      ...      reading score writing score\n",
       "0  female        group B      ...                 72            74\n",
       "1  female        group C      ...                 90            88\n",
       "2  female        group B      ...                 95            93\n",
       "\n",
       "[3 rows x 8 columns]"
      ]
     },
     "execution_count": 3,
     "metadata": {},
     "output_type": "execute_result"
    }
   ],
   "source": [
    "df = pd.read_csv('StudentsPerformance.csv')\n",
    "df.head(3)"
   ]
  },
  {
   "cell_type": "markdown",
   "metadata": {
    "_uuid": "e0eee748fd20f4f13decfa88bac7b92b9a5a7c06"
   },
   "source": [
    "### **Dataset Summary**"
   ]
  },
  {
   "cell_type": "code",
   "execution_count": 4,
   "metadata": {
    "_uuid": "e4b37183dc76f6b0f5a5a63c58bfda29593c8850"
   },
   "outputs": [
    {
     "name": "stdout",
     "output_type": "stream",
     "text": [
      "<class 'pandas.core.frame.DataFrame'>\n",
      "RangeIndex: 1000 entries, 0 to 999\n",
      "Data columns (total 8 columns):\n",
      "gender                         1000 non-null object\n",
      "race/ethnicity                 1000 non-null object\n",
      "parental level of education    1000 non-null object\n",
      "lunch                          1000 non-null object\n",
      "test preparation course        1000 non-null object\n",
      "math score                     1000 non-null int64\n",
      "reading score                  1000 non-null int64\n",
      "writing score                  1000 non-null int64\n",
      "dtypes: int64(3), object(5)\n",
      "memory usage: 62.6+ KB\n"
     ]
    }
   ],
   "source": [
    "df.info()"
   ]
  },
  {
   "cell_type": "markdown",
   "metadata": {
    "_uuid": "ace5dc3244f734b148dea306e6ddac01c9b04228"
   },
   "source": [
    "#### **Checking the number of Null Values**"
   ]
  },
  {
   "cell_type": "code",
   "execution_count": 5,
   "metadata": {
    "_uuid": "a7b9a65e2aa345466ba1c4ae470d6d7c80999008"
   },
   "outputs": [
    {
     "data": {
      "text/plain": [
       "gender                         0\n",
       "race/ethnicity                 0\n",
       "parental level of education    0\n",
       "lunch                          0\n",
       "test preparation course        0\n",
       "math score                     0\n",
       "reading score                  0\n",
       "writing score                  0\n",
       "dtype: int64"
      ]
     },
     "execution_count": 5,
     "metadata": {},
     "output_type": "execute_result"
    }
   ],
   "source": [
    "df.isnull().sum()"
   ]
  },
  {
   "cell_type": "markdown",
   "metadata": {
    "_uuid": "61d0b5b8ee687e1a790a83c335c002cb2bbb10da"
   },
   "source": [
    "**There are no Null values in any of the columns**"
   ]
  },
  {
   "cell_type": "code",
   "execution_count": 6,
   "metadata": {
    "_uuid": "5b94be8d8abd39c441411e8fac9d5cdba4475284"
   },
   "outputs": [
    {
     "data": {
      "text/plain": [
       "(1000, 8)"
      ]
     },
     "execution_count": 6,
     "metadata": {},
     "output_type": "execute_result"
    }
   ],
   "source": [
    "df.shape"
   ]
  },
  {
   "cell_type": "code",
   "execution_count": 7,
   "metadata": {
    "_uuid": "40be786af98f0cbc1e21fbbf13cdfebc98a6d5b8"
   },
   "outputs": [
    {
     "data": {
      "text/html": [
       "<div>\n",
       "<style scoped>\n",
       "    .dataframe tbody tr th:only-of-type {\n",
       "        vertical-align: middle;\n",
       "    }\n",
       "\n",
       "    .dataframe tbody tr th {\n",
       "        vertical-align: top;\n",
       "    }\n",
       "\n",
       "    .dataframe thead th {\n",
       "        text-align: right;\n",
       "    }\n",
       "</style>\n",
       "<table border=\"1\" class=\"dataframe\">\n",
       "  <thead>\n",
       "    <tr style=\"text-align: right;\">\n",
       "      <th></th>\n",
       "      <th>math score</th>\n",
       "      <th>reading score</th>\n",
       "      <th>writing score</th>\n",
       "    </tr>\n",
       "  </thead>\n",
       "  <tbody>\n",
       "    <tr>\n",
       "      <th>count</th>\n",
       "      <td>1000.00000</td>\n",
       "      <td>1000.000000</td>\n",
       "      <td>1000.000000</td>\n",
       "    </tr>\n",
       "    <tr>\n",
       "      <th>mean</th>\n",
       "      <td>66.08900</td>\n",
       "      <td>69.169000</td>\n",
       "      <td>68.054000</td>\n",
       "    </tr>\n",
       "    <tr>\n",
       "      <th>std</th>\n",
       "      <td>15.16308</td>\n",
       "      <td>14.600192</td>\n",
       "      <td>15.195657</td>\n",
       "    </tr>\n",
       "    <tr>\n",
       "      <th>min</th>\n",
       "      <td>0.00000</td>\n",
       "      <td>17.000000</td>\n",
       "      <td>10.000000</td>\n",
       "    </tr>\n",
       "    <tr>\n",
       "      <th>25%</th>\n",
       "      <td>57.00000</td>\n",
       "      <td>59.000000</td>\n",
       "      <td>57.750000</td>\n",
       "    </tr>\n",
       "    <tr>\n",
       "      <th>50%</th>\n",
       "      <td>66.00000</td>\n",
       "      <td>70.000000</td>\n",
       "      <td>69.000000</td>\n",
       "    </tr>\n",
       "    <tr>\n",
       "      <th>75%</th>\n",
       "      <td>77.00000</td>\n",
       "      <td>79.000000</td>\n",
       "      <td>79.000000</td>\n",
       "    </tr>\n",
       "    <tr>\n",
       "      <th>max</th>\n",
       "      <td>100.00000</td>\n",
       "      <td>100.000000</td>\n",
       "      <td>100.000000</td>\n",
       "    </tr>\n",
       "  </tbody>\n",
       "</table>\n",
       "</div>"
      ],
      "text/plain": [
       "       math score  reading score  writing score\n",
       "count  1000.00000    1000.000000    1000.000000\n",
       "mean     66.08900      69.169000      68.054000\n",
       "std      15.16308      14.600192      15.195657\n",
       "min       0.00000      17.000000      10.000000\n",
       "25%      57.00000      59.000000      57.750000\n",
       "50%      66.00000      70.000000      69.000000\n",
       "75%      77.00000      79.000000      79.000000\n",
       "max     100.00000     100.000000     100.000000"
      ]
     },
     "execution_count": 7,
     "metadata": {},
     "output_type": "execute_result"
    }
   ],
   "source": [
    "df.describe()"
   ]
  },
  {
   "cell_type": "markdown",
   "metadata": {
    "_uuid": "e6a45b237746be6be5b246fb5b78cf31b4256e45"
   },
   "source": [
    "**The features described in the above data set are:**\n",
    "\n",
    "**1. Count** tells us the number of NoN-empty rows in a feature.\n",
    "\n",
    "**2. Mean** tells us the mean value of that feature.\n",
    "\n",
    "**3. Std** tells us the Standard Deviation Value of that feature.\n",
    "\n",
    "**4. Min** tells us the minimum value of that feature.\n",
    "\n",
    "**5. 25%**, **50%**, and **75%** are the percentile/quartile of each features.\n",
    "\n",
    "**6. Max** tells us the maximum value of that feature."
   ]
  },
  {
   "cell_type": "markdown",
   "metadata": {
    "_uuid": "4fa3f191a7e38330a5ef3e8a9bc56749b79798f2"
   },
   "source": [
    "### **Checking each columns features**"
   ]
  },
  {
   "cell_type": "markdown",
   "metadata": {
    "_uuid": "dc28b0a4a7b6238b5034ab6a03a2ecf0da33f2ba"
   },
   "source": [
    "#### **1. Gender**"
   ]
  },
  {
   "cell_type": "code",
   "execution_count": 8,
   "metadata": {
    "_uuid": "aa4406e2f7ce8b02a3199f3ae8fd41b76dabbe10"
   },
   "outputs": [
    {
     "name": "stdout",
     "output_type": "stream",
     "text": [
      "1 .  female\n",
      "2 .  male\n"
     ]
    }
   ],
   "source": [
    "count  = 0\n",
    "for i in df['gender'].unique():\n",
    "    count = count + 1\n",
    "    print(count,'. ',i)"
   ]
  },
  {
   "cell_type": "markdown",
   "metadata": {
    "_uuid": "500310913d8147aeb89d940cabd2f4777a9aa4ed"
   },
   "source": [
    "#### **2. Race/Ehtnicity of People**"
   ]
  },
  {
   "cell_type": "code",
   "execution_count": 9,
   "metadata": {
    "_uuid": "e6d436e7028352026b213fb0679137e3d4ea087b"
   },
   "outputs": [
    {
     "name": "stdout",
     "output_type": "stream",
     "text": [
      "1 .  group A\n",
      "2 .  group B\n",
      "3 .  group C\n",
      "4 .  group D\n",
      "5 .  group E\n",
      "Number of different races/ethnicity of people:  5\n"
     ]
    }
   ],
   "source": [
    "count = 0\n",
    "for i in sorted(df['race/ethnicity'].unique()):\n",
    "    count = count + 1\n",
    "    print(count, '. ',i)\n",
    "print('Number of different races/ethnicity of people: ', df['race/ethnicity'].nunique())"
   ]
  },
  {
   "cell_type": "markdown",
   "metadata": {
    "_uuid": "b986cf118bdd2d2ec9a230e81c41f2a7c7fe021b"
   },
   "source": [
    "#### **3. Parent's level of Education**"
   ]
  },
  {
   "cell_type": "code",
   "execution_count": 10,
   "metadata": {
    "_uuid": "439460abfab33df2c5db33546ac786029ad1057b"
   },
   "outputs": [
    {
     "name": "stdout",
     "output_type": "stream",
     "text": [
      "1 .  bachelor's degree\n",
      "2 .  some college\n",
      "3 .  master's degree\n",
      "4 .  associate's degree\n",
      "5 .  high school\n",
      "6 .  some high school\n"
     ]
    }
   ],
   "source": [
    "count = 0\n",
    "for i in df['parental level of education'].unique():\n",
    "    count = count + 1\n",
    "    print(count, '. ', i)"
   ]
  },
  {
   "cell_type": "markdown",
   "metadata": {
    "_uuid": "c14df701e59fe1d4226a70ad3997d2833a3be4b0"
   },
   "source": [
    "#### **4. Different types of lunches**"
   ]
  },
  {
   "cell_type": "code",
   "execution_count": 11,
   "metadata": {
    "_uuid": "a33baff9a9192c6eeeff474b71bf68b009acfe70"
   },
   "outputs": [
    {
     "name": "stdout",
     "output_type": "stream",
     "text": [
      "1 .  standard\n",
      "2 .  free/reduced\n"
     ]
    }
   ],
   "source": [
    "count  = 0\n",
    "for i in df['lunch'].unique():\n",
    "    count = count + 1\n",
    "    print(count,'. ',i)"
   ]
  },
  {
   "cell_type": "markdown",
   "metadata": {
    "_uuid": "fdc84054fbf371f919e11ae144499d9bd97d90f0"
   },
   "source": [
    "#### **5. Types of Test Prepration Course**\n"
   ]
  },
  {
   "cell_type": "code",
   "execution_count": 12,
   "metadata": {
    "_uuid": "4d10297522254b36572ff4a6f35d58375f12f3b7"
   },
   "outputs": [
    {
     "name": "stdout",
     "output_type": "stream",
     "text": [
      "1 . none\n",
      "2 . completed\n"
     ]
    }
   ],
   "source": [
    "count  = 0\n",
    "for i in df['test preparation course'].unique():\n",
    "    count = count + 1\n",
    "    print(count,'.',i)"
   ]
  },
  {
   "cell_type": "markdown",
   "metadata": {
    "_uuid": "affb0420acc8cc5b69ee441cee46e08e811c1b1b"
   },
   "source": [
    "## **Exploratory Data Analysis**\n"
   ]
  },
  {
   "cell_type": "code",
   "execution_count": 13,
   "metadata": {
    "_uuid": "27ae1e1a708c8786ff5685fc11d6308ea72f5f12"
   },
   "outputs": [],
   "source": [
    "sns.set_style('darkgrid')"
   ]
  },
  {
   "cell_type": "markdown",
   "metadata": {
    "_uuid": "337d4cbf0d144bf810715da663810d57b3a34d0d"
   },
   "source": [
    "#### **1. Pairplot**"
   ]
  },
  {
   "cell_type": "code",
   "execution_count": 14,
   "metadata": {
    "_uuid": "fc36310676ecb366112ffd8085e47ec389a6d634"
   },
   "outputs": [
    {
     "data": {
      "image/png": "[encoded data removed]",
      "text/plain": [
       "<Figure size 610.5x540 with 12 Axes>"
      ]
     },
     "metadata": {},
     "output_type": "display_data"
    }
   ],
   "source": [
    "sns.pairplot(df, hue = 'gender')\n",
    "plt.show()"
   ]
  },
  {
   "cell_type": "markdown",
   "metadata": {
    "_uuid": "42e3b90b52388440059604e6fc97149caeb193f4"
   },
   "source": [
    "#### **2. Heatmap**"
   ]
  },
  {
   "cell_type": "code",
   "execution_count": 15,
   "metadata": {
    "_uuid": "ff8313b2cb542a3b1234957ddf0c84f65b63c6cb"
   },
   "outputs": [
    {
     "data": {
      "image/png": "[encoded data removed]",
      "text/plain": [
       "<Figure size 432x288 with 2 Axes>"
      ]
     },
     "metadata": {},
     "output_type": "display_data"
    }
   ],
   "source": [
    "sns.heatmap(df.corr(), annot = True, cmap='inferno')\n",
    "plt.show()"
   ]
  },
  {
   "cell_type": "markdown",
   "metadata": {
    "_uuid": "867fbce5148fedfbc6db5974e9acd85970a6e82c"
   },
   "source": [
    "**There is strong correlation between a student's reading score & writing score, reading score & math score and writing score & math score**"
   ]
  },
  {
   "cell_type": "markdown",
   "metadata": {
    "_uuid": "4d1970fd2bc2a3f5ef6a29fdde4621da0b015f8a"
   },
   "source": [
    "### **Plotting the distribution of students marks**"
   ]
  },
  {
   "cell_type": "markdown",
   "metadata": {
    "_uuid": "d0994c62b0d7a383a390069b4c649f953b405835"
   },
   "source": [
    "#### **1. Math Score**"
   ]
  },
  {
   "cell_type": "code",
   "execution_count": 16,
   "metadata": {
    "_uuid": "7aa8ce60e3d5dee52be94488510a45d432a601cb"
   },
   "outputs": [
    {
     "data": {
      "image/png": "[encoded data removed]",
      "text/plain": [
       "<Figure size 576x360 with 1 Axes>"
      ]
     },
     "metadata": {},
     "output_type": "display_data"
    }
   ],
   "source": [
    "plt.figure(figsize=(8,5))\n",
    "sns.distplot(df['math score'], kde = False, color='m', bins = 30)\n",
    "plt.ylabel('Frequency')\n",
    "plt.title('Math Score Distribution')\n",
    "plt.show()"
   ]
  },
  {
   "cell_type": "markdown",
   "metadata": {
    "_uuid": "a908b20383923a007fa0f4be7b91b8e941f09f2f"
   },
   "source": [
    "**Most students have their math score in the range of 60 to 80**"
   ]
  },
  {
   "cell_type": "markdown",
   "metadata": {
    "_uuid": "d8e7aec16880c491e7721232a2d794a5e6a5b05c"
   },
   "source": [
    "#### **2. Reading Score**"
   ]
  },
  {
   "cell_type": "code",
   "execution_count": 17,
   "metadata": {
    "_uuid": "fce25fbc69d04e8ad39bd78378e705e98c5b6ced"
   },
   "outputs": [
    {
     "data": {
      "image/png": "[encoded data removed]",
      "text/plain": [
       "<Figure size 576x360 with 1 Axes>"
      ]
     },
     "metadata": {},
     "output_type": "display_data"
    }
   ],
   "source": [
    "plt.figure(figsize=(8,5))\n",
    "sns.distplot(df['reading score'], kde = False, color='r', bins = 30)\n",
    "plt.ylabel('Frequency')\n",
    "plt.title('Reading Score Distribution')\n",
    "plt.show()"
   ]
  },
  {
   "cell_type": "markdown",
   "metadata": {
    "_uuid": "a8532a8b8d8868f30160186a59e30fce17758591"
   },
   "source": [
    "**Most students have their reading score in the range of 60 to 80**"
   ]
  },
  {
   "cell_type": "markdown",
   "metadata": {
    "_uuid": "cb6118a0540bec81f4c9a5ab0d10ec8058cbd63f"
   },
   "source": [
    "#### ** 3. Writing Score**"
   ]
  },
  {
   "cell_type": "code",
   "execution_count": 18,
   "metadata": {
    "_uuid": "08578a0bc38a1afb0c6cd9874f09294e03a45c5e"
   },
   "outputs": [
    {
     "data": {
      "image/png": "[encoded data removed]",
      "text/plain": [
       "<Figure size 576x360 with 1 Axes>"
      ]
     },
     "metadata": {},
     "output_type": "display_data"
    }
   ],
   "source": [
    "plt.figure(figsize=(8,5))\n",
    "sns.distplot(df['writing score'], kde = False, color='blue', bins = 30)\n",
    "plt.ylabel('Frequency')\n",
    "plt.title('Writing Score Distribution')\n",
    "plt.show()"
   ]
  },
  {
   "cell_type": "markdown",
   "metadata": {
    "_uuid": "9664796355eb35675cc89866bec8f691ad94a64d"
   },
   "source": [
    "**Most students have their writing score in the range of 60 to 80**"
   ]
  },
  {
   "cell_type": "markdown",
   "metadata": {
    "_uuid": "c23198772e0568db8d5fca25e488a2e1531ba7e4"
   },
   "source": [
    "### **Analyzing Maximum and Minimum marks of Students**\n"
   ]
  },
  {
   "cell_type": "markdown",
   "metadata": {
    "_uuid": "cf5203c8498e4a8f7011fb8b48398c2d260df652"
   },
   "source": [
    "#### **1. Maximum & Minimum score in Math**"
   ]
  },
  {
   "cell_type": "code",
   "execution_count": 19,
   "metadata": {
    "_uuid": "7b714c2c4df440d63ec4fd5f956e992a7527db05"
   },
   "outputs": [
    {
     "name": "stdout",
     "output_type": "stream",
     "text": [
      "Maximum score in Maths is:  100\n",
      "Minimum score in Maths is:  0\n"
     ]
    }
   ],
   "source": [
    "print('Maximum score in Maths is: ',max(df['math score']))\n",
    "print('Minimum score in Maths is: ',min(df['math score']))"
   ]
  },
  {
   "cell_type": "markdown",
   "metadata": {
    "_uuid": "fe5f27a2ac65db6d086d8648f5000535deecef21"
   },
   "source": [
    "#### **2. Maximum & Minimum score in Reading**"
   ]
  },
  {
   "cell_type": "code",
   "execution_count": 20,
   "metadata": {
    "_uuid": "db03a40c5d061b5ee6b326ed4b3871b836fed183"
   },
   "outputs": [
    {
     "name": "stdout",
     "output_type": "stream",
     "text": [
      "Maximum score in Reading is:  100\n",
      "Minimum score in Reading is:  17\n"
     ]
    }
   ],
   "source": [
    "print('Maximum score in Reading is: ',max(df['reading score']))\n",
    "print('Minimum score in Reading is: ',min(df['reading score']))"
   ]
  },
  {
   "cell_type": "markdown",
   "metadata": {
    "_uuid": "21a5cc1d32259fb7357589f2806949a2299b2c2b"
   },
   "source": [
    "#### **3. Maximum & Minimum score in Writing**"
   ]
  },
  {
   "cell_type": "code",
   "execution_count": 21,
   "metadata": {
    "_uuid": "1557a8e42758b29b3074c400bf8b35319c79a282"
   },
   "outputs": [
    {
     "name": "stdout",
     "output_type": "stream",
     "text": [
      "Maximum score in Writing is:  100\n",
      "Mimimum score in Writing is:  10\n"
     ]
    }
   ],
   "source": [
    "print('Maximum score in Writing is: ',max(df['writing score']))\n",
    "print('Mimimum score in Writing is: ',min(df['writing score']))"
   ]
  },
  {
   "cell_type": "markdown",
   "metadata": {
    "_uuid": "6f0e46fe830e4b890dc143ff66a26a744e01f12a"
   },
   "source": [
    "#### **4. Number of students having maximum score in Math**\n"
   ]
  },
  {
   "cell_type": "code",
   "execution_count": 22,
   "metadata": {
    "_uuid": "c3a816443a47ca51e5da83b1ade2ed2bb0594c50"
   },
   "outputs": [
    {
     "name": "stdout",
     "output_type": "stream",
     "text": [
      "No. of students having maximum score in math:  7\n"
     ]
    }
   ],
   "source": [
    "print('No. of students having maximum score in math: ', len(df[df['math score'] == 100]))"
   ]
  },
  {
   "cell_type": "markdown",
   "metadata": {
    "_uuid": "e0b73458ba72d0b15fe7e6a7b1a0b52d3118cd4d"
   },
   "source": [
    "#### ** 5. Number of students having maximum score in Reading**\n"
   ]
  },
  {
   "cell_type": "code",
   "execution_count": 23,
   "metadata": {
    "_uuid": "0282cd12d46118e6e7854a178006072ff2800fdf"
   },
   "outputs": [
    {
     "name": "stdout",
     "output_type": "stream",
     "text": [
      "No. of students having maximum score in reading:  17\n"
     ]
    }
   ],
   "source": [
    "print('No. of students having maximum score in reading: ', len(df[df['reading score'] == 100]))"
   ]
  },
  {
   "cell_type": "markdown",
   "metadata": {
    "_uuid": "f38506229ea0fa96fcae19cec530d6c09e366c7b"
   },
   "source": [
    "#### ** 6. Number of students having maximum score in Writing**"
   ]
  },
  {
   "cell_type": "code",
   "execution_count": 24,
   "metadata": {
    "_uuid": "f944b6e7f1718806716711dded798aa1b1b7380f"
   },
   "outputs": [
    {
     "name": "stdout",
     "output_type": "stream",
     "text": [
      "No. of students having maximum score in writing:  14\n"
     ]
    }
   ],
   "source": [
    "print('No. of students having maximum score in writing: ', len(df[df['writing score'] == 100]))"
   ]
  },
  {
   "cell_type": "markdown",
   "metadata": {
    "_uuid": "30cff9eb803d32d630b0dc6844bf444f2a07b59f"
   },
   "source": [
    "#### **7. Number of Students having maximum marks in all three categories**"
   ]
  },
  {
   "cell_type": "code",
   "execution_count": 25,
   "metadata": {
    "_uuid": "42c10ed3cec001e7e2cf777320c3fc164ba1d5bc"
   },
   "outputs": [
    {
     "data": {
      "text/html": [
       "<div>\n",
       "<style scoped>\n",
       "    .dataframe tbody tr th:only-of-type {\n",
       "        vertical-align: middle;\n",
       "    }\n",
       "\n",
       "    .dataframe tbody tr th {\n",
       "        vertical-align: top;\n",
       "    }\n",
       "\n",
       "    .dataframe thead th {\n",
       "        text-align: right;\n",
       "    }\n",
       "</style>\n",
       "<table border=\"1\" class=\"dataframe\">\n",
       "  <thead>\n",
       "    <tr style=\"text-align: right;\">\n",
       "      <th></th>\n",
       "      <th>gender</th>\n",
       "      <th>race/ethnicity</th>\n",
       "      <th>parental level of education</th>\n",
       "      <th>lunch</th>\n",
       "      <th>test preparation course</th>\n",
       "      <th>math score</th>\n",
       "      <th>reading score</th>\n",
       "      <th>writing score</th>\n",
       "    </tr>\n",
       "  </thead>\n",
       "  <tbody>\n",
       "    <tr>\n",
       "      <th>458</th>\n",
       "      <td>female</td>\n",
       "      <td>group E</td>\n",
       "      <td>bachelor's degree</td>\n",
       "      <td>standard</td>\n",
       "      <td>none</td>\n",
       "      <td>100</td>\n",
       "      <td>100</td>\n",
       "      <td>100</td>\n",
       "    </tr>\n",
       "    <tr>\n",
       "      <th>916</th>\n",
       "      <td>male</td>\n",
       "      <td>group E</td>\n",
       "      <td>bachelor's degree</td>\n",
       "      <td>standard</td>\n",
       "      <td>completed</td>\n",
       "      <td>100</td>\n",
       "      <td>100</td>\n",
       "      <td>100</td>\n",
       "    </tr>\n",
       "    <tr>\n",
       "      <th>962</th>\n",
       "      <td>female</td>\n",
       "      <td>group E</td>\n",
       "      <td>associate's degree</td>\n",
       "      <td>standard</td>\n",
       "      <td>none</td>\n",
       "      <td>100</td>\n",
       "      <td>100</td>\n",
       "      <td>100</td>\n",
       "    </tr>\n",
       "  </tbody>\n",
       "</table>\n",
       "</div>"
      ],
      "text/plain": [
       "     gender race/ethnicity      ...      reading score writing score\n",
       "458  female        group E      ...                100           100\n",
       "916    male        group E      ...                100           100\n",
       "962  female        group E      ...                100           100\n",
       "\n",
       "[3 rows x 8 columns]"
      ]
     },
     "execution_count": 25,
     "metadata": {},
     "output_type": "execute_result"
    }
   ],
   "source": [
    "perfect_writing = df['writing score'] == 100\n",
    "perfect_reading = df['reading score'] == 100\n",
    "perfect_math = df['math score'] == 100\n",
    "\n",
    "perfect_score = df[(perfect_math) & (perfect_reading) & (perfect_writing)]\n",
    "perfect_score"
   ]
  },
  {
   "cell_type": "code",
   "execution_count": 26,
   "metadata": {
    "_uuid": "781152bf1edf3ee7e91c6d9044d9cca83e8bb40d"
   },
   "outputs": [
    {
     "name": "stdout",
     "output_type": "stream",
     "text": [
      "Number of students having maximum marks in all three subjects:  3\n"
     ]
    }
   ],
   "source": [
    "print('Number of students having maximum marks in all three subjects: ',len(perfect_score))"
   ]
  },
  {
   "cell_type": "markdown",
   "metadata": {
    "_uuid": "6f81fcf11fb40c11fef4719b53d4d999ead33633"
   },
   "source": [
    "#### **7. Number of Students having minimum marks in all three categories**"
   ]
  },
  {
   "cell_type": "code",
   "execution_count": 27,
   "metadata": {
    "_uuid": "77c0c6cd0cad99ffadedae7b6f6c4b8b2dc43f81"
   },
   "outputs": [
    {
     "data": {
      "text/html": [
       "<div>\n",
       "<style scoped>\n",
       "    .dataframe tbody tr th:only-of-type {\n",
       "        vertical-align: middle;\n",
       "    }\n",
       "\n",
       "    .dataframe tbody tr th {\n",
       "        vertical-align: top;\n",
       "    }\n",
       "\n",
       "    .dataframe thead th {\n",
       "        text-align: right;\n",
       "    }\n",
       "</style>\n",
       "<table border=\"1\" class=\"dataframe\">\n",
       "  <thead>\n",
       "    <tr style=\"text-align: right;\">\n",
       "      <th></th>\n",
       "      <th>gender</th>\n",
       "      <th>race/ethnicity</th>\n",
       "      <th>parental level of education</th>\n",
       "      <th>lunch</th>\n",
       "      <th>test preparation course</th>\n",
       "      <th>math score</th>\n",
       "      <th>reading score</th>\n",
       "      <th>writing score</th>\n",
       "    </tr>\n",
       "  </thead>\n",
       "  <tbody>\n",
       "    <tr>\n",
       "      <th>59</th>\n",
       "      <td>female</td>\n",
       "      <td>group C</td>\n",
       "      <td>some high school</td>\n",
       "      <td>free/reduced</td>\n",
       "      <td>none</td>\n",
       "      <td>0</td>\n",
       "      <td>17</td>\n",
       "      <td>10</td>\n",
       "    </tr>\n",
       "  </tbody>\n",
       "</table>\n",
       "</div>"
      ],
      "text/plain": [
       "    gender race/ethnicity      ...      reading score writing score\n",
       "59  female        group C      ...                 17            10\n",
       "\n",
       "[1 rows x 8 columns]"
      ]
     },
     "execution_count": 27,
     "metadata": {},
     "output_type": "execute_result"
    }
   ],
   "source": [
    "minimum_math = df['math score'] == 0\n",
    "minimum_reading = df['reading score'] == 17\n",
    "minimum_writing = df['writing score'] == 10\n",
    "\n",
    "\n",
    "\n",
    "minimum_score = df[(minimum_math) & (minimum_reading) & (minimum_writing)]\n",
    "minimum_score"
   ]
  },
  {
   "cell_type": "code",
   "execution_count": 28,
   "metadata": {
    "_uuid": "e9b668563f0099981722c24704c4977dcdd325c2"
   },
   "outputs": [
    {
     "name": "stdout",
     "output_type": "stream",
     "text": [
      "No. of students having minimum marks in all three subjects:  1\n"
     ]
    }
   ],
   "source": [
    "print('No. of students having minimum marks in all three subjects: ', len(minimum_score))"
   ]
  },
  {
   "cell_type": "markdown",
   "metadata": {
    "_uuid": "431859fd2e7573968f9196c14a649101e7873764"
   },
   "source": [
    "### **Data Visualization and Interpretation**"
   ]
  },
  {
   "cell_type": "markdown",
   "metadata": {
    "_uuid": "1ce66c522a033d7b9fd132d87c0324f6bfa55061"
   },
   "source": [
    "#### **1. Bar Plot of Scores according to gender**\n"
   ]
  },
  {
   "cell_type": "code",
   "execution_count": 29,
   "metadata": {
    "_uuid": "2489a2b0719469f854d1002cf02ca32f83aa43f7"
   },
   "outputs": [
    {
     "data": {
      "image/png": "[encoded data removed]",
      "text/plain": [
       "<Figure size 720x288 with 3 Axes>"
      ]
     },
     "metadata": {},
     "output_type": "display_data"
    }
   ],
   "source": [
    "plt.figure(figsize=(10,4))\n",
    "\n",
    "plt.subplot(1,3,1)\n",
    "sns.barplot(x = 'gender', y = 'reading score', data = df)\n",
    "\n",
    "plt.subplot(1,3,2)\n",
    "sns.barplot(x = 'gender', y = 'writing score', data = df)\n",
    "\n",
    "plt.subplot(1,3,3)\n",
    "sns.barplot(x = 'gender', y = 'math score', data = df)\n",
    "\n",
    "plt.tight_layout()"
   ]
  },
  {
   "cell_type": "markdown",
   "metadata": {
    "_uuid": "52b29ea38ca8a4af39e7e169ca26143558785710"
   },
   "source": [
    "**Males have higher math score than Females, whereas Females have higher scores in reading and writing than Males**"
   ]
  },
  {
   "cell_type": "markdown",
   "metadata": {
    "_uuid": "bfc2c67613646f8cb0ad3ba221b368420ba01bb8"
   },
   "source": [
    "#### ** 2. Bar plot of Scores on the basis of Race/Ethnicity**"
   ]
  },
  {
   "cell_type": "code",
   "execution_count": 30,
   "metadata": {
    "_uuid": "ff82b0b82c19e5dd38739e5055a6d339d5df88c2"
   },
   "outputs": [
    {
     "data": {
      "image/png": "[encoded data removed]",
      "text/plain": [
       "<Figure size 1008x288 with 3 Axes>"
      ]
     },
     "metadata": {},
     "output_type": "display_data"
    }
   ],
   "source": [
    "plt.figure(figsize=(14,4))\n",
    "\n",
    "plt.subplot(1,3,1)\n",
    "sns.barplot(x = 'race/ethnicity', y = 'reading score', data = df)\n",
    "plt.xticks(rotation = 90)\n",
    "\n",
    "plt.subplot(1,3,2)\n",
    "sns.barplot(x = 'race/ethnicity', y = 'writing score', data = df)\n",
    "plt.xticks(rotation = 90)\n",
    "\n",
    "plt.subplot(1,3,3)\n",
    "sns.barplot(x = 'race/ethnicity', y = 'math score', data = df)\n",
    "plt.xticks(rotation = 90)\n",
    "\n",
    "plt.tight_layout()\n"
   ]
  },
  {
   "cell_type": "markdown",
   "metadata": {
    "_uuid": "d9dc559b258b82fa263bba3b56ed97db4a667f1a"
   },
   "source": [
    "**People from group E have higher score in all three categories, where as people from group A have the lowest score in all three categories**"
   ]
  },
  {
   "cell_type": "markdown",
   "metadata": {
    "_uuid": "a5cdede1e9d52b39e83c82fbc49f905154f513db"
   },
   "source": [
    "#### **3. Bar plots of Scores on the basis of Test Prepration Course**"
   ]
  },
  {
   "cell_type": "code",
   "execution_count": 31,
   "metadata": {
    "_uuid": "1419649ac35e6ef8480ae88a49bec8017c35154f"
   },
   "outputs": [
    {
     "data": {
      "image/png": "[encoded data removed]",
      "text/plain": [
       "<Figure size 1008x288 with 3 Axes>"
      ]
     },
     "metadata": {},
     "output_type": "display_data"
    }
   ],
   "source": [
    "plt.figure(figsize=(14,4))\n",
    "\n",
    "plt.subplot(1,3,1)\n",
    "sns.barplot(x = 'test preparation course', y = 'reading score', hue = 'gender', data = df)\n",
    "\n",
    "plt.subplot(1,3,2)\n",
    "sns.barplot(x = 'test preparation course', y = 'writing score',hue = 'gender', data = df)\n",
    "\n",
    "plt.subplot(1,3,3)\n",
    "sns.barplot(x = 'test preparation course', y = 'math score',hue = 'gender', data = df)\n",
    "\n",
    "plt.tight_layout()"
   ]
  },
  {
   "cell_type": "markdown",
   "metadata": {
    "_uuid": "ef1c2f57584fedad7a43c06797e4038a5f0deacf"
   },
   "source": [
    "**Students who have completed the Test Prepration Course have scores higher in all three categories than those who haven't taken the course**"
   ]
  },
  {
   "cell_type": "markdown",
   "metadata": {
    "_uuid": "fb5d7e0b0b01caa46e5e9acf593c74af5ad0f5a0"
   },
   "source": [
    "#### **4. Bar Plots of Scores on the basis of Parent's Education Level**"
   ]
  },
  {
   "cell_type": "code",
   "execution_count": 32,
   "metadata": {
    "_uuid": "b802cc4e2fc06949747155ab950bedb0b2379e0e"
   },
   "outputs": [
    {
     "data": {
      "image/png": "[encoded data removed]",
      "text/plain": [
       "<Figure size 936x360 with 3 Axes>"
      ]
     },
     "metadata": {},
     "output_type": "display_data"
    }
   ],
   "source": [
    "plt.figure(figsize=(13,5))\n",
    "\n",
    "plt.subplot(1,3,1)\n",
    "sns.barplot(x = 'parental level of education', y = 'reading score', data = df)\n",
    "plt.xticks(rotation = 90)\n",
    "\n",
    "plt.subplot(1,3,2)\n",
    "sns.barplot(x = 'parental level of education', y = 'writing score', data = df)\n",
    "plt.xticks(rotation = 90)\n",
    "\n",
    "plt.subplot(1,3,3)\n",
    "sns.barplot(x = 'parental level of education', y = 'math score', data = df)\n",
    "plt.xticks(rotation = 90)\n",
    "\n",
    "plt.tight_layout()"
   ]
  },
  {
   "cell_type": "markdown",
   "metadata": {
    "_uuid": "b73afcfbd101e5e20fbf502811877c124552d2c5"
   },
   "source": [
    "**Student's whose parents have a Master's degree have scored higher compared to others whereas Student's whose parent's went to high school have obtained low marks compared to others**"
   ]
  },
  {
   "cell_type": "markdown",
   "metadata": {
    "_uuid": "2588cc502e7d979469ba7c247b77a70b61f497eb"
   },
   "source": [
    "#### **5. Bar Plots of Scores on the basis of Types of Luch**"
   ]
  },
  {
   "cell_type": "code",
   "execution_count": 33,
   "metadata": {
    "_uuid": "6141baa885dba1a499c09dce62b875643c2bd29e"
   },
   "outputs": [
    {
     "data": {
      "image/png": "[encoded data removed]",
      "text/plain": [
       "<Figure size 1008x288 with 3 Axes>"
      ]
     },
     "metadata": {},
     "output_type": "display_data"
    }
   ],
   "source": [
    "plt.figure(figsize=(14,4))\n",
    "\n",
    "plt.subplot(1,3,1)\n",
    "sns.barplot(x = 'lunch', y = 'reading score', data = df)\n",
    "\n",
    "plt.subplot(1,3,2)\n",
    "sns.barplot(x = 'lunch', y = 'writing score', data = df)\n",
    "\n",
    "plt.subplot(1,3,3)\n",
    "sns.barplot(x = 'lunch', y = 'math score', data = df)\n",
    "\n",
    "\n",
    "plt.tight_layout()"
   ]
  },
  {
   "cell_type": "markdown",
   "metadata": {
    "_uuid": "d2b73e2c784be03f3edc83b6fb367453315f4eb8"
   },
   "source": [
    "**Students who availed standard luch have scored higher in all the three categories compared to students who have taken free/ reduced lunch.**"
   ]
  },
  {
   "cell_type": "markdown",
   "metadata": {
    "_uuid": "fdeb0ee8f4e3f12c52b49ff297d16287dff93dba"
   },
   "source": [
    " #### **6. Marks break down according to Gender**"
   ]
  },
  {
   "cell_type": "markdown",
   "metadata": {
    "_uuid": "d90d627760d7ee6f61129b2a2c1703c1b6dfa740"
   },
   "source": [
    "#### **i. Math Score**"
   ]
  },
  {
   "cell_type": "code",
   "execution_count": 34,
   "metadata": {
    "_uuid": "98492c1238840aed8ef286ca6cfe6bce45acff1e"
   },
   "outputs": [
    {
     "name": "stdout",
     "output_type": "stream",
     "text": [
      "----Females----\n",
      "Max. math Score:  100\n",
      "Min. math Score:  0\n",
      "Average math Score:  63.633204633204635\n",
      "----Males----\n",
      "Max. math Score:  100\n",
      "Min. math Score:  27\n",
      "Average math Score:  68.72821576763485\n"
     ]
    }
   ],
   "source": [
    "print('----Females----')\n",
    "print('Max. math Score: ', df[df['gender'] == 'female']['math score'].max())\n",
    "print('Min. math Score: ', df[df['gender'] == 'female']['math score'].min())\n",
    "print('Average math Score: ', df[df['gender'] == 'female']['math score'].mean())\n",
    "print('----Males----')\n",
    "print('Max. math Score: ', df[df['gender'] == 'male']['math score'].max())\n",
    "print('Min. math Score: ', df[df['gender'] == 'male']['math score'].min())\n",
    "print('Average math Score: ', df[df['gender'] == 'male']['math score'].mean())"
   ]
  },
  {
   "cell_type": "markdown",
   "metadata": {
    "_uuid": "eea36a2eb7cb21a967244d794452878b5cfae777"
   },
   "source": [
    "#### ** ii. Reading Score**"
   ]
  },
  {
   "cell_type": "code",
   "execution_count": 35,
   "metadata": {
    "_uuid": "3beda864d26eb3a1d8c8eae2f4e1018c5765d7c7"
   },
   "outputs": [
    {
     "name": "stdout",
     "output_type": "stream",
     "text": [
      "----Females----\n",
      "Max. reading Score:  100\n",
      "Min. reading Score:  17\n",
      "Average reading Score:  72.60810810810811\n",
      "----Males----\n",
      "Max. reading Score:  100\n",
      "Min. reading Score:  23\n",
      "Average reading Score:  65.47302904564316\n"
     ]
    }
   ],
   "source": [
    "print('----Females----')\n",
    "print('Max. reading Score: ', df[df['gender'] == 'female']['reading score'].max())\n",
    "print('Min. reading Score: ', df[df['gender'] == 'female']['reading score'].min())\n",
    "print('Average reading Score: ', df[df['gender'] == 'female']['reading score'].mean())\n",
    "print('----Males----')\n",
    "print('Max. reading Score: ', df[df['gender'] == 'male']['reading score'].max())\n",
    "print('Min. reading Score: ', df[df['gender'] == 'male']['reading score'].min())\n",
    "print('Average reading Score: ', df[df['gender'] == 'male']['reading score'].mean())"
   ]
  },
  {
   "cell_type": "markdown",
   "metadata": {
    "_uuid": "5177242d1b004961fa5608dd46d54ac4a0fc17e5"
   },
   "source": [
    "#### ** iii. Writing Score**"
   ]
  },
  {
   "cell_type": "code",
   "execution_count": 36,
   "metadata": {
    "_uuid": "83f743d327a8de82d205347aca03f1564a02e5a6"
   },
   "outputs": [
    {
     "name": "stdout",
     "output_type": "stream",
     "text": [
      "----Females----\n",
      "Max. writing Score:  100\n",
      "Min. writing Score:  10\n",
      "Average writing Score:  72.46718146718146\n",
      "----Males----\n",
      "Max. writing Score:  100\n",
      "Min. writing Score:  15\n",
      "Average writing Score:  63.31120331950208\n"
     ]
    }
   ],
   "source": [
    "print('----Females----')\n",
    "print('Max. writing Score: ', df[df['gender'] == 'female']['writing score'].max())\n",
    "print('Min. writing Score: ', df[df['gender'] == 'female']['writing score'].min())\n",
    "print('Average writing Score: ', df[df['gender'] == 'female']['writing score'].mean())\n",
    "print('----Males----')\n",
    "print('Max. writing Score: ', df[df['gender'] == 'male']['writing score'].max())\n",
    "print('Min. writing Score: ', df[df['gender'] == 'male']['writing score'].min())\n",
    "print('Average writing Score: ', df[df['gender'] == 'male']['writing score'].mean())"
   ]
  },
  {
   "cell_type": "code",
   "execution_count": 37,
   "metadata": {
    "_uuid": "ca4111f273f2839acb96be0db211e43f7f612bda"
   },
   "outputs": [
    {
     "data": {
      "image/png": "[encoded data removed]",
      "text/plain": [
       "<Figure size 864x360 with 3 Axes>"
      ]
     },
     "metadata": {},
     "output_type": "display_data"
    }
   ],
   "source": [
    "plt.figure(figsize=(12,5))\n",
    "\n",
    "plt.subplot(1,3,1)\n",
    "sns.boxplot(x = 'gender', y = 'math score', data = df,palette = ['coral', 'lawngreen'])\n",
    "\n",
    "plt.subplot(1,3,2)\n",
    "sns.boxplot(x = 'gender', y = 'reading score', data = df,palette = ['coral', 'lawngreen'])\n",
    "\n",
    "plt.subplot(1,3,3)\n",
    "sns.boxplot(x = 'gender', y = 'writing score', data = df,palette = ['coral', 'lawngreen'])\n",
    "\n",
    "plt.tight_layout()"
   ]
  },
  {
   "cell_type": "markdown",
   "metadata": {
    "_uuid": "3bd692d4c727bd7f212d279b969c5ce0d7ed2c18"
   },
   "source": [
    "#### ** 7. Marks breakdown according to Race/Ethnicity**"
   ]
  },
  {
   "cell_type": "markdown",
   "metadata": {
    "_uuid": "4b2a665b828117a44608bcadf4a4f928aa973778"
   },
   "source": [
    "#### ** i. Math Score**"
   ]
  },
  {
   "cell_type": "code",
   "execution_count": 38,
   "metadata": {
    "_uuid": "6a649d968a7678717bead1ee0ea9144c937800c5"
   },
   "outputs": [
    {
     "name": "stdout",
     "output_type": "stream",
     "text": [
      "----- group A -----\n",
      "Max. marks:  100\n",
      "Min. marks:  28\n",
      "Average marks:  61.62921348314607\n",
      "----- group B -----\n",
      "Max. marks:  97\n",
      "Min. marks:  8\n",
      "Average marks:  63.45263157894737\n",
      "----- group C -----\n",
      "Max. marks:  98\n",
      "Min. marks:  0\n",
      "Average marks:  64.46394984326018\n",
      "----- group D -----\n",
      "Max. marks:  100\n",
      "Min. marks:  26\n",
      "Average marks:  67.36259541984732\n",
      "----- group E -----\n",
      "Max. marks:  100\n",
      "Min. marks:  30\n",
      "Average marks:  73.82142857142857\n"
     ]
    }
   ],
   "source": [
    "for i in sorted(df['race/ethnicity'].unique()):\n",
    "    print('-----',i,'-----')\n",
    "    print('Max. marks: ', df[df['race/ethnicity'] == i]['math score'].max())\n",
    "    print('Min. marks: ', df[df['race/ethnicity'] == i]['math score'].min())\n",
    "    print('Average marks: ', df[df['race/ethnicity'] == i]['math score'].mean())"
   ]
  },
  {
   "cell_type": "markdown",
   "metadata": {
    "_uuid": "aa50d1abc57118e42e38c2394a643541263e452c"
   },
   "source": [
    "#### **ii. Reading Score**"
   ]
  },
  {
   "cell_type": "code",
   "execution_count": 39,
   "metadata": {
    "_uuid": "5c3100a95a73d2da3168e858ab0ac97b51aca6f9"
   },
   "outputs": [
    {
     "name": "stdout",
     "output_type": "stream",
     "text": [
      "----- group A -----\n",
      "Max. marks:  100\n",
      "Min. marks:  23\n",
      "Average marks:  64.67415730337079\n",
      "----- group B -----\n",
      "Max. marks:  97\n",
      "Min. marks:  24\n",
      "Average marks:  67.35263157894737\n",
      "----- group C -----\n",
      "Max. marks:  100\n",
      "Min. marks:  17\n",
      "Average marks:  69.10344827586206\n",
      "----- group D -----\n",
      "Max. marks:  100\n",
      "Min. marks:  31\n",
      "Average marks:  70.03053435114504\n",
      "----- group E -----\n",
      "Max. marks:  100\n",
      "Min. marks:  26\n",
      "Average marks:  73.02857142857142\n"
     ]
    }
   ],
   "source": [
    "for i in sorted(df['race/ethnicity'].unique()):\n",
    "    print('-----',i,'-----')\n",
    "    print('Max. marks: ', df[df['race/ethnicity'] == i]['reading score'].max())\n",
    "    print('Min. marks: ', df[df['race/ethnicity'] == i]['reading score'].min())\n",
    "    print('Average marks: ', df[df['race/ethnicity'] == i]['reading score'].mean())"
   ]
  },
  {
   "cell_type": "markdown",
   "metadata": {
    "_uuid": "28417e3ed36d1828a9c1b5996ca3bebcc853f5b5"
   },
   "source": [
    "#### **iii. Writing Score**"
   ]
  },
  {
   "cell_type": "code",
   "execution_count": 40,
   "metadata": {
    "_uuid": "26bcb3e4a6b03fee275127be63a5906d966418a6"
   },
   "outputs": [
    {
     "name": "stdout",
     "output_type": "stream",
     "text": [
      "----- group A -----\n",
      "Max. marks:  97\n",
      "Min. marks:  19\n",
      "Average marks:  62.674157303370784\n",
      "----- group B -----\n",
      "Max. marks:  96\n",
      "Min. marks:  15\n",
      "Average marks:  65.6\n",
      "----- group C -----\n",
      "Max. marks:  100\n",
      "Min. marks:  10\n",
      "Average marks:  67.82758620689656\n",
      "----- group D -----\n",
      "Max. marks:  100\n",
      "Min. marks:  32\n",
      "Average marks:  70.14503816793894\n",
      "----- group E -----\n",
      "Max. marks:  100\n",
      "Min. marks:  22\n",
      "Average marks:  71.40714285714286\n"
     ]
    }
   ],
   "source": [
    "for i in sorted(df['race/ethnicity'].unique()):\n",
    "    print('-----',i,'-----')\n",
    "    print('Max. marks: ', df[df['race/ethnicity'] == i]['writing score'].max())\n",
    "    print('Min. marks: ', df[df['race/ethnicity'] == i]['writing score'].min())\n",
    "    print('Average marks: ', df[df['race/ethnicity'] == i]['writing score'].mean())"
   ]
  },
  {
   "cell_type": "code",
   "execution_count": 41,
   "metadata": {
    "_uuid": "f6e47ffd66cf4c56c7c5308270ced91636f5bdf9"
   },
   "outputs": [
    {
     "data": {
      "image/png": "[encoded data removed]",
      "text/plain": [
       "<Figure size 1008x360 with 3 Axes>"
      ]
     },
     "metadata": {},
     "output_type": "display_data"
    }
   ],
   "source": [
    "plt.figure(figsize=(14,5))\n",
    "plt.subplot(1,3,1)\n",
    "sns.boxplot(x = 'race/ethnicity', y = 'math score', data = df)\n",
    "\n",
    "plt.subplot(1,3,2)\n",
    "sns.boxplot(x = 'race/ethnicity', y = 'reading score', data = df)\n",
    "\n",
    "plt.subplot(1,3,3)\n",
    "sns.boxplot(x = 'race/ethnicity', y = 'writing score', data = df)\n",
    "\n",
    "plt.tight_layout()"
   ]
  },
  {
   "cell_type": "markdown",
   "metadata": {
    "_uuid": "557d95d0b491a7682d3b23a7c94c7ecf37e54b67"
   },
   "source": [
    "####  **8. Marks breakdown on the basis of Parent's Education Level**"
   ]
  },
  {
   "cell_type": "markdown",
   "metadata": {
    "_uuid": "41ebc123692383626b58ad34d2ff43cf444a27f9"
   },
   "source": [
    "#### **i. Math Score**"
   ]
  },
  {
   "cell_type": "code",
   "execution_count": 42,
   "metadata": {
    "_uuid": "72302072f30061c14e56691a60f5ed3d1fe0fec1"
   },
   "outputs": [
    {
     "name": "stdout",
     "output_type": "stream",
     "text": [
      "----- bachelor's degree -----\n",
      "Max. marks:  100\n",
      "Min. marks:  29\n",
      "Average. marks:  69.38983050847457\n",
      "----- some college -----\n",
      "Max. marks:  100\n",
      "Min. marks:  19\n",
      "Average. marks:  67.1283185840708\n",
      "----- master's degree -----\n",
      "Max. marks:  95\n",
      "Min. marks:  40\n",
      "Average. marks:  69.7457627118644\n",
      "----- associate's degree -----\n",
      "Max. marks:  100\n",
      "Min. marks:  26\n",
      "Average. marks:  67.88288288288288\n",
      "----- high school -----\n",
      "Max. marks:  99\n",
      "Min. marks:  8\n",
      "Average. marks:  62.13775510204081\n",
      "----- some high school -----\n",
      "Max. marks:  97\n",
      "Min. marks:  0\n",
      "Average. marks:  63.497206703910614\n"
     ]
    }
   ],
   "source": [
    "for i in df['parental level of education'].unique():\n",
    "    print('-----',i,'-----')\n",
    "    print('Max. marks: ', df[df['parental level of education'] == i]['math score'].max())\n",
    "    print('Min. marks: ', df[df['parental level of education'] == i]['math score'].min())\n",
    "    print('Average. marks: ', df[df['parental level of education'] == i]['math score'].mean())\n",
    "    "
   ]
  },
  {
   "cell_type": "markdown",
   "metadata": {
    "_uuid": "9e6c4d01463a78aa7acb5c2040078d41c9fd9904"
   },
   "source": [
    "#### ** ii. Reading Score**\n"
   ]
  },
  {
   "cell_type": "code",
   "execution_count": 43,
   "metadata": {
    "_uuid": "0e773c6c9da0fbfa0188a5c38cf941e8e84484c5"
   },
   "outputs": [
    {
     "name": "stdout",
     "output_type": "stream",
     "text": [
      "----- bachelor's degree -----\n",
      "Max. marks:  100\n",
      "Min. marks:  41\n",
      "Average. marks:  73.0\n",
      "----- some college -----\n",
      "Max. marks:  100\n",
      "Min. marks:  23\n",
      "Average. marks:  69.46017699115045\n",
      "----- master's degree -----\n",
      "Max. marks:  100\n",
      "Min. marks:  42\n",
      "Average. marks:  75.37288135593221\n",
      "----- associate's degree -----\n",
      "Max. marks:  100\n",
      "Min. marks:  31\n",
      "Average. marks:  70.92792792792793\n",
      "----- high school -----\n",
      "Max. marks:  99\n",
      "Min. marks:  24\n",
      "Average. marks:  64.70408163265306\n",
      "----- some high school -----\n",
      "Max. marks:  100\n",
      "Min. marks:  17\n",
      "Average. marks:  66.93854748603351\n"
     ]
    }
   ],
   "source": [
    "for i in df['parental level of education'].unique():\n",
    "    print('-----',i,'-----')\n",
    "    print('Max. marks: ', df[df['parental level of education'] == i]['reading score'].max())\n",
    "    print('Min. marks: ', df[df['parental level of education'] == i]['reading score'].min())\n",
    "    print('Average. marks: ', df[df['parental level of education'] == i]['reading score'].mean())\n",
    "    "
   ]
  },
  {
   "cell_type": "markdown",
   "metadata": {
    "_uuid": "1170dbc2a1e17cff9a9a7fe0f61bbe20755aeb17"
   },
   "source": [
    "#### ** iii. Writing Score**"
   ]
  },
  {
   "cell_type": "code",
   "execution_count": 44,
   "metadata": {
    "_uuid": "64bfb12b88e1dfbd64b3a4e1ff8ec43d3650a943"
   },
   "outputs": [
    {
     "name": "stdout",
     "output_type": "stream",
     "text": [
      "----- bachelor's degree -----\n",
      "Max. marks:  100\n",
      "Min. marks:  38\n",
      "Average. marks:  73.38135593220339\n",
      "----- some college -----\n",
      "Max. marks:  99\n",
      "Min. marks:  19\n",
      "Average. marks:  68.84070796460178\n",
      "----- master's degree -----\n",
      "Max. marks:  100\n",
      "Min. marks:  46\n",
      "Average. marks:  75.67796610169492\n",
      "----- associate's degree -----\n",
      "Max. marks:  100\n",
      "Min. marks:  35\n",
      "Average. marks:  69.8963963963964\n",
      "----- high school -----\n",
      "Max. marks:  100\n",
      "Min. marks:  15\n",
      "Average. marks:  62.44897959183673\n",
      "----- some high school -----\n",
      "Max. marks:  100\n",
      "Min. marks:  10\n",
      "Average. marks:  64.88826815642459\n"
     ]
    }
   ],
   "source": [
    "for i in df['parental level of education'].unique():\n",
    "    print('-----',i,'-----')\n",
    "    print('Max. marks: ', df[df['parental level of education'] == i]['writing score'].max())\n",
    "    print('Min. marks: ', df[df['parental level of education'] == i]['writing score'].min())\n",
    "    print('Average. marks: ', df[df['parental level of education'] == i]['writing score'].mean())\n",
    "    "
   ]
  },
  {
   "cell_type": "code",
   "execution_count": 45,
   "metadata": {
    "_uuid": "7af3b653645cef4e83e41829a31d409335c51bb1"
   },
   "outputs": [
    {
     "data": {
      "image/png": "[encoded data removed]",
      "text/plain": [
       "<Figure size 1152x504 with 3 Axes>"
      ]
     },
     "metadata": {},
     "output_type": "display_data"
    }
   ],
   "source": [
    "sns.set_style('whitegrid')\n",
    "plt.figure(figsize=(16,7))\n",
    "plt.subplot(1,3,1)\n",
    "sns.boxplot(x ='parental level of education' , y = 'math score', data = df)\n",
    "plt.xticks(rotation = 90)\n",
    "\n",
    "plt.subplot(1,3,2)\n",
    "sns.boxplot(x ='parental level of education' , y = 'reading score', data = df)\n",
    "plt.xticks(rotation = 90)\n",
    "\n",
    "plt.subplot(1,3,3)\n",
    "sns.boxplot(x ='parental level of education' , y = 'writing score', data = df)\n",
    "plt.xticks(rotation = 90)\n",
    "\n",
    "plt.tight_layout()"
   ]
  },
  {
   "cell_type": "markdown",
   "metadata": {
    "_uuid": "ccd292caecdb92f8a6a99b71867df4de30693f01"
   },
   "source": [
    "### **Implementing a Grading system for marks obtained**"
   ]
  },
  {
   "cell_type": "markdown",
   "metadata": {
    "_uuid": "f7e0717f8fdaa5ef63c7fbf81207d5c5417f78a6"
   },
   "source": [
    "**The grading system is described as follows:**"
   ]
  },
  {
   "cell_type": "markdown",
   "metadata": {
    "_uuid": "9273ab1275fc4644e515a0df31e5ccbebe833e3b"
   },
   "source": [
    "**1. O (Outstanding)**: Student who scores 91 marks or higher in a subject<br>\n",
    "**2. A+ (Excellent)**: Student who scores 82 marks or higher in a subject<br>\n",
    "**3. A (Very Good)**: Student who scores 73 marks or higher in a subject<br>\n",
    "**4. B+ (Good)**: Student who scores 64 marks or higher in a subject<br>\n",
    "**5. B (Above Average)**: Student who scores 55 marks or higher in a subject<br>\n",
    "**6. C (Average)**: Student who scores 46 marks or higher in a subject<br>\n",
    "**7. P (Pass)**: Student who scores 35 marks or higher in a subject<br>\n",
    "**8. F (Fail)**: Student who scores less than 35 marks in a subject<br>\n"
   ]
  },
  {
   "cell_type": "code",
   "execution_count": 46,
   "metadata": {
    "_uuid": "a641b8f56a8a8d488b7e550bc78f9f547dbd1775"
   },
   "outputs": [],
   "source": [
    "# Function to assign grades\n",
    "\n",
    "def get_grade(marks):\n",
    "    if marks >= 91:\n",
    "        return 'O'\n",
    "    elif marks >= 82 and marks < 91:\n",
    "        return 'A+'\n",
    "    elif marks >=73 and marks < 82:\n",
    "        return 'A'\n",
    "    elif marks >=64 and marks < 73:\n",
    "        return 'B+'\n",
    "    elif marks >= 55 and marks < 64:\n",
    "        return 'B'\n",
    "    elif marks >=46 and marks < 55:\n",
    "        return 'C'\n",
    "    elif marks >= 35 and marks < 46:\n",
    "        return 'P'\n",
    "    elif marks < 35:\n",
    "        return 'F'"
   ]
  },
  {
   "cell_type": "code",
   "execution_count": 47,
   "metadata": {
    "_uuid": "8c701dd873fd0e9605528c1f2b7e4736d9c89679"
   },
   "outputs": [],
   "source": [
    "df['reading_grade'] = df['reading score'].apply(get_grade)\n",
    "df['writing_grade'] = df['writing score'].apply(get_grade)\n",
    "df['math_grade'] = df['math score'].apply(get_grade)"
   ]
  },
  {
   "cell_type": "markdown",
   "metadata": {
    "_uuid": "bb59831da5207e09ac573c13e9d5fb9bc70adb26"
   },
   "source": [
    "#### **Plotting Grade Statistics**"
   ]
  },
  {
   "cell_type": "code",
   "execution_count": 48,
   "metadata": {
    "_uuid": "5f9f483e85339ac71adf748a37c72363169a5b97"
   },
   "outputs": [
    {
     "data": {
      "image/png": "[encoded data removed]",
      "text/plain": [
       "<Figure size 1152x360 with 3 Axes>"
      ]
     },
     "metadata": {},
     "output_type": "display_data"
    }
   ],
   "source": [
    "sns.set_style('whitegrid')\n",
    "plt.figure(figsize=(16,5))\n",
    "plt.subplot(1,3,1)\n",
    "sns.countplot(x ='math_grade', data = df,order = ['O','A+','A','B+','B','C','P','F'],palette='magma')\n",
    "plt.title('Grade Count in Math')\n",
    "\n",
    "\n",
    "plt.subplot(1,3,2)\n",
    "sns.countplot(x ='reading_grade', data = df,order = ['O','A+','A','B+','B','C','P','F'],palette='magma')\n",
    "plt.title('Grade Count in Reading')\n",
    "\n",
    "plt.subplot(1,3,3)\n",
    "sns.countplot(x ='writing_grade', data = df,order = ['O','A+','A','B+','B','C','P','F'],palette='magma')\n",
    "plt.title('Grade Count in Writing')\n",
    "\n",
    "plt.tight_layout()"
   ]
  },
  {
   "cell_type": "markdown",
   "metadata": {
    "_uuid": "a706170a3b28ee865895038c56770c6b12c64bf1"
   },
   "source": [
    "**Plot Summary**"
   ]
  },
  {
   "cell_type": "code",
   "execution_count": 49,
   "metadata": {
    "_kg_hide-input": true,
    "_uuid": "41a1e188c0bd93eff85362a6447a988b36bd90c6"
   },
   "outputs": [
    {
     "name": "stdout",
     "output_type": "stream",
     "text": [
      "-------- GRADE STATISTICS --------\n",
      "==== MATH GRADE ====\n",
      "B+    226\n",
      "B     206\n",
      "A     193\n",
      "C     136\n",
      "A+    104\n",
      "P      63\n",
      "O      50\n",
      "F      22\n",
      "Name: math_grade, dtype: int64\n",
      "==== READING GRADE ====\n",
      "B+    226\n",
      "A     223\n",
      "B     181\n",
      "A+    148\n",
      "C     100\n",
      "O      62\n",
      "P      45\n",
      "F      15\n",
      "Name: reading_grade, dtype: int64\n",
      "==== WRITING GRADE ====\n",
      "A     225\n",
      "B+    223\n",
      "B     161\n",
      "C     126\n",
      "A+    120\n",
      "O      68\n",
      "P      60\n",
      "F      17\n",
      "Name: writing_grade, dtype: int64\n"
     ]
    }
   ],
   "source": [
    "print('-------- GRADE STATISTICS --------')\n",
    "print('==== MATH GRADE ====')\n",
    "print(df['math_grade'].value_counts())\n",
    "print('==== READING GRADE ====')\n",
    "print(df['reading_grade'].value_counts())\n",
    "print('==== WRITING GRADE ====')\n",
    "print(df['writing_grade'].value_counts())"
   ]
  },
  {
   "cell_type": "markdown",
   "metadata": {
    "_uuid": "860cae4d7063915aaa9c5524e7eb455374b9783b"
   },
   "source": [
    "Most of the students have got a B+ in Maths and Reading Section whereas in Writing Section almost equal number of students have got A and B+ grade.<br>\n",
    "The number of candidates who just got a qualifying grade(P) and passed is the highest in maths."
   ]
  },
  {
   "cell_type": "markdown",
   "metadata": {
    "_uuid": "5dc0a1c80165f8de86ed7cbdf46ae93dcd7d110c"
   },
   "source": [
    "#### **Number of students having maximum grade in Maths**"
   ]
  },
  {
   "cell_type": "code",
   "execution_count": 50,
   "metadata": {
    "_uuid": "33c5f41543fde59217f5e70d182615c85c294873"
   },
   "outputs": [
    {
     "name": "stdout",
     "output_type": "stream",
     "text": [
      "No. of students having maximum grade in math:  50\n"
     ]
    }
   ],
   "source": [
    "print('No. of students having maximum grade in math: ', len(df[df['math_grade'] == 'O']))"
   ]
  },
  {
   "cell_type": "markdown",
   "metadata": {
    "_uuid": "36c1095b26a1915d6c4a6968f6f9d96ae49e51e0"
   },
   "source": [
    "#### **Number of students having maximum grade in Reading**"
   ]
  },
  {
   "cell_type": "code",
   "execution_count": 51,
   "metadata": {
    "_uuid": "a56e1e8f42330e3b5b029f9ab65169a31f6023fd"
   },
   "outputs": [
    {
     "name": "stdout",
     "output_type": "stream",
     "text": [
      "No. of students having maximum grade in reading:  62\n"
     ]
    }
   ],
   "source": [
    "print('No. of students having maximum grade in reading: ', len(df[df['reading_grade'] == 'O']))"
   ]
  },
  {
   "cell_type": "markdown",
   "metadata": {
    "_uuid": "64a6e5ba2eadf6e4e4f0f007821bf38ff70ed6c6"
   },
   "source": [
    "#### **Number of students having maximum grade in Writing**"
   ]
  },
  {
   "cell_type": "code",
   "execution_count": 52,
   "metadata": {
    "_uuid": "84e8470de9392f78731acfb96a551d3298f71933"
   },
   "outputs": [
    {
     "name": "stdout",
     "output_type": "stream",
     "text": [
      "No. of students having maximum grade in writing:  68\n"
     ]
    }
   ],
   "source": [
    "print('No. of students having maximum grade in writing: ', len(df[df['writing_grade'] == 'O']))"
   ]
  },
  {
   "cell_type": "markdown",
   "metadata": {
    "_uuid": "ede64fac7a4cc887cab756883663ffad205b0983"
   },
   "source": [
    "#### **Number of students having maximum grade in all three categories**"
   ]
  },
  {
   "cell_type": "code",
   "execution_count": 53,
   "metadata": {
    "_uuid": "d4563649aa34728530f4d38b047effb6a205f105"
   },
   "outputs": [
    {
     "name": "stdout",
     "output_type": "stream",
     "text": [
      "Number of students having maximum grade(O) in all three subjects:  23\n"
     ]
    }
   ],
   "source": [
    "perfect_writing = df['writing_grade'] == 'O'\n",
    "perfect_reading = df['reading_grade'] == 'O'\n",
    "perfect_math = df['math_grade'] == 'O'\n",
    "\n",
    "perfect_grade = df[(perfect_math) & (perfect_reading) & (perfect_writing)]\n",
    "print('Number of students having maximum grade(O) in all three subjects: ',len(perfect_grade))"
   ]
  },
  {
   "cell_type": "markdown",
   "metadata": {
    "_uuid": "d77d026b52b3fbf18b86b5162952b4eb478b26b1"
   },
   "source": [
    "#### **Number of students having minimum grade in all three categories**"
   ]
  },
  {
   "cell_type": "code",
   "execution_count": 54,
   "metadata": {
    "_uuid": "ecf1cac494e4cf49f70635611280e37f76f8bd72"
   },
   "outputs": [
    {
     "name": "stdout",
     "output_type": "stream",
     "text": [
      "Number of students having minimum grade(F) in all three subjects:  8\n"
     ]
    }
   ],
   "source": [
    "minimum_math = df['math_grade'] == 'F'\n",
    "minimum_reading = df['reading_grade'] == 'F'\n",
    "minimum_writing = df['writing_grade'] == 'F'\n",
    "\n",
    "\n",
    "\n",
    "minimum_grade = df[(minimum_math) & (minimum_reading) & (minimum_writing)]\n",
    "print('Number of students having minimum grade(F) in all three subjects: ',len(minimum_grade))"
   ]
  },
  {
   "cell_type": "markdown",
   "metadata": {
    "_uuid": "51d59f86e4b7ee5eab9452a3aca2565e4d64056f"
   },
   "source": [
    "### **Classifying Students as Passed or Failed**\n",
    "A student is classified failed if he/she has failed in any one of three subjects otherwise he/she is classified as passed."
   ]
  },
  {
   "cell_type": "code",
   "execution_count": 55,
   "metadata": {
    "_uuid": "8f9dadc23cf322e89ec4fa1938c455527a987f10"
   },
   "outputs": [
    {
     "name": "stdout",
     "output_type": "stream",
     "text": [
      "Total Number of students who failed are: 29\n"
     ]
    }
   ],
   "source": [
    "#Failed Students\n",
    "failed_students = df[(minimum_math) | (minimum_reading)|(minimum_writing)]\n",
    "failed = len(failed_students)\n",
    "print('Total Number of students who failed are: {}' .format(len(failed_students)))"
   ]
  },
  {
   "cell_type": "code",
   "execution_count": 56,
   "metadata": {
    "_uuid": "59567339c5d438d20294bfa52996a80a8f795145"
   },
   "outputs": [
    {
     "name": "stdout",
     "output_type": "stream",
     "text": [
      "Total Number of students who passed are: 971\n"
     ]
    }
   ],
   "source": [
    "#Passed Students\n",
    "passed_students = len(df) - len(failed_students)\n",
    "print('Total Number of students who passed are: {}' .format(passed_students))"
   ]
  },
  {
   "cell_type": "code",
   "execution_count": 57,
   "metadata": {
    "_kg_hide-input": true,
    "_kg_hide-output": false,
    "_uuid": "87c296e7135d36788046bfd1b443b41346d49179"
   },
   "outputs": [
    {
     "data": {
      "image/png": "[encoded data removed]",
      "text/plain": [
       "<Figure size 576x432 with 1 Axes>"
      ]
     },
     "metadata": {},
     "output_type": "display_data"
    }
   ],
   "source": [
    "plt.figure(figsize=(8,6))\n",
    "\n",
    "#Data to plot\n",
    "labels = 'Passed Students', 'Failed Students'\n",
    "sizes = [passed_students,failed]\n",
    "colors = ['skyblue','yellowgreen']\n",
    "explode = (.2,0)\n",
    "\n",
    "#Plot\n",
    "plt.pie(sizes,explode = explode, labels = labels,colors = colors,\n",
    "       autopct='%1.1f%%',shadow = True, startangle=360)\n",
    "plt.axis('equal')\n",
    "plt.title('Percentage of Students who passed/failed in Exams')\n",
    "plt.show()"
   ]
  },
  {
   "cell_type": "markdown",
   "metadata": {
    "_uuid": "a248663fca5c112357f884b5702591690eac5cc9"
   },
   "source": [
    "Majority(97.1%) of students passed in all the three subjects.Only 2.9% students failed in atleast one of the three subjects"
   ]
  },
  {
   "cell_type": "markdown",
   "metadata": {
    "_uuid": "31598cdf83b17c3bf197e439cbf4a9ffb7f50e17"
   },
   "source": [
    "**Suggestions are welcome**"
   ]
  },
  {
   "cell_type": "code",
   "execution_count": 58,
   "metadata": {
    "_uuid": "b6a52c28f0431968216bdbb9633f4f8b917fe9a5"
   },
   "outputs": [],
   "source": []
  }
 ],
 "metadata": {
  "kernelspec": {
   "display_name": "Python 3 (ipykernel)",
   "language": "python",
   "name": "python3"
  },
  "language_info": {
   "codemirror_mode": {
    "name": "ipython",
    "version": 3
   },
   "file_extension": ".py",
   "mimetype": "text/x-python",
   "name": "python",
   "nbconvert_exporter": "python",
   "pygments_lexer": "ipython3",
   "version": "3.11.3"
  }
 },
 "nbformat": 4,
 "nbformat_minor": 1
}
